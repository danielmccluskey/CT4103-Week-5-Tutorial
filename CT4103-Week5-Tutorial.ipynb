{
 "cells": [
  {
   "cell_type": "markdown",
   "metadata": {},
   "source": [
    "<img src=\"img/uoglogo.jpg\" style=\"float:left; width: 30%;\" alt=\"Drawing\" />\n",
    "<img src=\"img/jupyterlogo.png\" style=\"float:right; width: 7%; text-align:left; margin-right:0; margin-top:0;\" />"
   ]
  },
  {
   "cell_type": "markdown",
   "metadata": {},
   "source": [
    "# CT4103 - Week 5 - Tutorial"
   ]
  },
  {
   "cell_type": "markdown",
   "metadata": {},
   "source": [
    "The following tasks are designed to test your knowledge on what we have learned during todays session, make sure to read each section carefully and then edit the code cells to fit the requirements. \n",
    "\n",
    "Try to complete the tasks by yourself, but if you would like some help you can either:\n",
    "- Look back at this weeks Lecture slides.\n",
    "- Ask one of the module tutors for help during a session.\n",
    "- Use Google to your advantage!"
   ]
  },
  {
   "cell_type": "markdown",
   "metadata": {},
   "source": [
    "<hr></hr>"
   ]
  },
  {
   "cell_type": "markdown",
   "metadata": {},
   "source": [
    "### Part 1 - Installing the libraries"
   ]
  },
  {
   "cell_type": "markdown",
   "metadata": {},
   "source": [
    "In this section, we will be learning how to install, import and use the `Matplotlib` and `Numpy` libraries.\n",
    "\n",
    "You will need to install these libraries to your Python Enivronment (The same environment you are running this Jupyter Notebook on!)\n",
    "\n",
    "https://github.com/danielmccluskey/CT40XX-Tutorials/blob/master/Generic/Setting-Up-A-Server.md#installing-packages\n",
    "\n"
   ]
  },
  {
   "cell_type": "markdown",
   "metadata": {},
   "source": [
    "<hr></hr>"
   ]
  },
  {
   "cell_type": "markdown",
   "metadata": {},
   "source": [
    "### Part 2 - Importing the libraries"
   ]
  },
  {
   "cell_type": "markdown",
   "metadata": {},
   "source": [
    "After installing the libraries, you may need to restart the kernel for this notebook. Do this by clicking on `Kernel->Restart` at the top of the screen."
   ]
  },
  {
   "cell_type": "code",
   "execution_count": null,
   "metadata": {},
   "outputs": [],
   "source": [
    "import matplotlib\n",
    "import matplotlib.pyplot as plt"
   ]
  },
  {
   "cell_type": "markdown",
   "metadata": {},
   "source": [
    "You also need to import the `numpy` and `seaborn` libraries, do this in the code cell below and name numpy as `np` and seaborn as `sns`!"
   ]
  },
  {
   "cell_type": "code",
   "execution_count": null,
   "metadata": {},
   "outputs": [],
   "source": [
    "#Your code goes here!\n"
   ]
  },
  {
   "cell_type": "markdown",
   "metadata": {},
   "source": [
    "<hr></hr>"
   ]
  },
  {
   "cell_type": "markdown",
   "metadata": {},
   "source": [
    "### Part 3 - Creating your own Graph!"
   ]
  },
  {
   "cell_type": "markdown",
   "metadata": {},
   "source": [
    "Now we are going to create our first line graph! But first we need some data to actually display!\n",
    "\n",
    "Below I have defined a list of integers that we are going to plot on a simple line graph."
   ]
  },
  {
   "cell_type": "code",
   "execution_count": null,
   "metadata": {},
   "outputs": [],
   "source": [
    "iNumberList = [0,1,2,3,4,5,6,7,8,9]"
   ]
  },
  {
   "cell_type": "markdown",
   "metadata": {},
   "source": [
    "To actually generate the graph, we're going to have to run a few functions:\n",
    "- `plt.plot(ListOfData)`: Will plot your data to the graph\n",
    "- `plt.ylabel(\"Text\")`: Changes the text that displays next to the Y-Axis of your graph\n",
    "- `plt.xlabel(\"Text\")`: Changes the text that displays next to the X-Axis of your graph\n",
    "- `plt.title(\"Text\")`: Changes the title of your graph\n",
    "- `plt.show()`: Shows and renders the graph to you\n",
    "\n",
    "Using the above information, create a graph that displays the data from `iNumberList`, give it a title and different X and Y labels. Mess around with the numbers in `iNumberList` to see how it affects the graph."
   ]
  },
  {
   "cell_type": "code",
   "execution_count": null,
   "metadata": {},
   "outputs": [],
   "source": [
    "#Your code goes here!\n",
    "\n"
   ]
  },
  {
   "cell_type": "markdown",
   "metadata": {},
   "source": [
    "<hr></hr>"
   ]
  },
  {
   "cell_type": "markdown",
   "metadata": {},
   "source": [
    "### Part 4 - Other types of graphs"
   ]
  },
  {
   "cell_type": "markdown",
   "metadata": {},
   "source": [
    "You can plot other types of graphs such as Bar charts, scatter graphs etc by using the following:\n",
    "- `plt.bar(XValues, YValues)`: Displays a bar chart with the given data\n",
    "- `plt.scatter(Xvalues, YValues)`: Displays a scatter graph with the given data\n",
    "- `plt.pie(Values)`: Displays an evenly spread pie chart with the given values\n",
    "\n",
    "Plot a bar chart in the code cell below using the given values. Put `sNames` along the X Axis and `iValues` on the Y axis.\n",
    "\n",
    "*Don't forget to give your graph axis names and a title!*"
   ]
  },
  {
   "cell_type": "code",
   "execution_count": null,
   "metadata": {},
   "outputs": [],
   "source": [
    "sNames = [\"Small\", \"Medium\", \"Big\"]\n",
    "iValues = [5, 150, 2000]\n",
    "\n",
    "#Your Code goes here!\n"
   ]
  },
  {
   "cell_type": "markdown",
   "metadata": {},
   "source": [
    "Now do the same but with a scatter graph instead!"
   ]
  },
  {
   "cell_type": "code",
   "execution_count": null,
   "metadata": {},
   "outputs": [],
   "source": [
    "#Your code goes here! \n",
    "\n"
   ]
  },
  {
   "cell_type": "markdown",
   "metadata": {},
   "source": [
    "Pie charts can also be generated! If you input some names and values into `plt.pie()` it will generate you a lovely pie chart! Run the code cell below to see an example!"
   ]
  },
  {
   "cell_type": "code",
   "execution_count": null,
   "metadata": {},
   "outputs": [],
   "source": [
    "sPieNames = ['Sunny Side of Pyramid','Sky','Dark side of Pyramid']\n",
    "fSizes = [40, 250, 40]\n",
    "sColours = ['yellow','blue','goldenrod']\n",
    "\n",
    "plt.figure(figsize=(6,6))\n",
    "plt.pie(fSizes, startangle=270, colors=sColours)\n",
    "plt.legend(sPieNames, loc=\"center left\", bbox_to_anchor=(1, 0, 0.5, 1))\n",
    "plt.title(\"A Chart to show the distribution of light\")\n",
    "plt.axis('equal')\n",
    "plt.show()"
   ]
  },
  {
   "cell_type": "markdown",
   "metadata": {},
   "source": [
    "<hr></hr>"
   ]
  },
  {
   "cell_type": "markdown",
   "metadata": {},
   "source": [
    "### Part 5 - Sub plotting"
   ]
  },
  {
   "cell_type": "markdown",
   "metadata": {},
   "source": [
    "You can plot multiple graphs on the same diagram, this is useful for comparing information between two different graphs.\n",
    "\n",
    "We do this by declaring a subplot:\n",
    "\n",
    "- We first declare that we are making a new figure with multiple diagrams using `plt.figure()`\n",
    "- We then declare what part of the subplot that we want to edit:\n",
    "    - We do this using `plt.subplot(RowsizeColumnsizeID)`\n",
    "        - Rowsize is how many rows your figure will have\n",
    "        - Columnsize is how many columns your figure will have\n",
    "        - ID is which graph you want to edit\n",
    "    - So if we wanted to make a figure with **1 Row** and **3 Columns**  we would write:\n",
    "        - `plt.subplot(131)` Which will start editing the first graph in the figure\n",
    "        - `plt.subplot(132)` Which would start editing the second graph in the figure\n",
    "        - and so on...\n",
    "\n",
    "Run the code cell below to see an example of this at work!"
   ]
  },
  {
   "cell_type": "code",
   "execution_count": null,
   "metadata": {},
   "outputs": [],
   "source": [
    "plt.figure(figsize=(16,3))\n",
    "plt.subplot(141)# 1 Row, 4 Columns, 1st Graph\n",
    "plt.bar(sNames, iValues)\n",
    "\n",
    "plt.subplot(142)# 1 Row, 4 Columns, 2nd Graph\n",
    "plt.bar(sNames, iValues)\n",
    "\n",
    "plt.subplot(143)# 1 Row, 4 Columns, 3rd Graph\n",
    "plt.bar(sNames, iValues)\n",
    "\n",
    "plt.subplot(144)# 1 Row, 4 Columns, 4th Graph\n",
    "plt.bar(sNames, iValues)\n",
    "\n",
    "plt.suptitle(\"A Graph to show the differences between Small, Medium and Big.\")\n",
    "plt.show()"
   ]
  },
  {
   "cell_type": "markdown",
   "metadata": {},
   "source": [
    "Using the information above try and do the following:\n",
    "- Create a Figure using **2 Rows** and **2 Columns**\n",
    "- Make the First graph a **Bar Chart**\n",
    "- Make the Second graph a **Scatter Graph**\n",
    "- Make the Third graph a **Line chart**\n",
    "- Make the Fourth graph a **Pie Chart**!\n",
    "\n",
    "*Don't forget to add axis information and labels to your graphs!*"
   ]
  },
  {
   "cell_type": "code",
   "execution_count": null,
   "metadata": {},
   "outputs": [],
   "source": [
    "#Your code goes here!\n"
   ]
  },
  {
   "cell_type": "markdown",
   "metadata": {},
   "source": [
    "<hr></hr>"
   ]
  },
  {
   "cell_type": "markdown",
   "metadata": {},
   "source": [
    "### Part 6 - Annotating your graphs"
   ]
  },
  {
   "cell_type": "markdown",
   "metadata": {},
   "source": [
    "You can add annotations to your graphs to emphasise and explain different points, you can do this with the `plt.text()` function.\n",
    "\n",
    "```plt.text(x,y,s)```\n",
    "- `x`: The position on the X axis that the annotation should appear\n",
    "- `y`: The position on the Y axis that the annotation should appear\n",
    "- `s`: The Text that should appear at that position\n",
    "\n",
    "When run, the example below will put a small annotation onto the graph at `0.5, 3.0` that says \"Hello\"\n"
   ]
  },
  {
   "cell_type": "code",
   "execution_count": null,
   "metadata": {},
   "outputs": [],
   "source": [
    "plt.plot(iValues)\n",
    "plt.text(x = 0.5, y = 3, s = \"Hello\")\n",
    "plt.show()"
   ]
  },
  {
   "cell_type": "markdown",
   "metadata": {},
   "source": [
    "There are other parameters you can use with the `plt.text()` function such as:\n",
    "- `color`: The colour of the annotation text\n",
    "- `backgroundcolor`: The background colour of the annotation, e.g. 'red', 'blue'\n",
    "- `alpha`: How transparent the annotation is (Value between `1.0` and `0.0`)\n",
    "- `fontsize`: Changes the size of the font\n",
    "\n",
    "A full list can be found in the documentation for matplotlib <a href=\"https://matplotlib.org/3.1.1/api/text_api.html#matplotlib.text.Text\">here</a>\n"
   ]
  },
  {
   "cell_type": "markdown",
   "metadata": {},
   "source": [
    "Using the information above, add some annotations to the given graph:\n",
    "- First Annotation must have:\n",
    "    - **Red** Text\n",
    "    - **Blue** Background\n",
    "    - **10%** transparency\n",
    "    - **20** Fontsize\n",
    "    \n",
    "- Second Annotation must have:\n",
    "    - Text colour of your choice!\n",
    "    - **Green** Background\n",
    "    - **70%** transparency\n",
    "    - **40** Fontsize"
   ]
  },
  {
   "cell_type": "code",
   "execution_count": null,
   "metadata": {},
   "outputs": [],
   "source": [
    "plt.plot(iValues)\n",
    "\n",
    "#Your code goes here!\n",
    "\n",
    "\n",
    "\n",
    "\n",
    "plt.show()"
   ]
  },
  {
   "cell_type": "markdown",
   "metadata": {},
   "source": [
    "<hr></hr>"
   ]
  },
  {
   "cell_type": "markdown",
   "metadata": {},
   "source": [
    "### Part 7 - Annotations... Again"
   ]
  },
  {
   "cell_type": "markdown",
   "metadata": {},
   "source": [
    "There are a tonne of fancy annotation features that are included with matplotlib, examples of which can be found in the documentation <a href=\"https://matplotlib.org/3.1.1/tutorials/text/annotations.html#sphx-glr-tutorials-text-annotations-py\">here</a>. \n",
    "\n",
    "Using these effectively can give your graphs the extra *pizazz* that makes it really stand out, here are a few examples:"
   ]
  },
  {
   "cell_type": "code",
   "execution_count": null,
   "metadata": {
    "scrolled": true
   },
   "outputs": [],
   "source": [
    "with plt.xkcd():\n",
    "    plt.plot(iValues)\n",
    "    plt.xlabel(\"Values\", color=\"green\", size=40)\n",
    "    plt.ylabel(\"Numbers\", color=\"orange\", size=5)\n",
    "    plt.title(\"A Graph to show iValues\", color=\"brown\", backgroundcolor=\"orange\")\n",
    "    plt.grid(True)\n",
    "    plt.annotate('Medium!', color=\"blue\", xy=(1, 200), xytext=(0.25, 1500), arrowprops=dict(facecolor='red', shrink=0.05),\n",
    "                 bbox=dict(boxstyle=\"round\", fc=(1.0, 0.7, 0.7), ec=\"none\"),\n",
    "                size=20)\n",
    "    plt.show()"
   ]
  },
  {
   "cell_type": "markdown",
   "metadata": {},
   "source": [
    "<hr></hr>"
   ]
  },
  {
   "cell_type": "markdown",
   "metadata": {},
   "source": [
    "### Part 7 - Styles"
   ]
  },
  {
   "cell_type": "markdown",
   "metadata": {},
   "source": [
    "If you don't like the generic Blue line, black text style of the graphs, you can change the style of the graph pretty easily using any of the predefined styles. Run the cell below to see all of the available styles."
   ]
  },
  {
   "cell_type": "code",
   "execution_count": null,
   "metadata": {},
   "outputs": [],
   "source": [
    "print(plt.style.available)"
   ]
  },
  {
   "cell_type": "markdown",
   "metadata": {},
   "source": [
    "Now apply one of the themes from above to the Bar chart below using `plt.style.use('Style')`!"
   ]
  },
  {
   "cell_type": "code",
   "execution_count": null,
   "metadata": {},
   "outputs": [],
   "source": [
    "plt.plot(iValues)\n",
    "plt.xlabel(\"Values\", color=\"green\", size=40)\n",
    "plt.ylabel(\"Numbers\", color=\"orange\", size=5)\n",
    "plt.title(\"A Graph to show iValues\", color=\"brown\", backgroundcolor=\"orange\")\n",
    "plt.grid(True)\n",
    "plt.annotate('Medium!', color=\"blue\", xy=(1, 200), xytext=(0.25, 1500), arrowprops=dict(facecolor='red', shrink=0.05),\n",
    "             bbox=dict(boxstyle=\"round\", fc=(1.0, 0.7, 0.7), ec=\"none\"),\n",
    "            size=20)\n",
    "\n",
    "#Your code goes here!\n",
    "\n",
    "\n",
    "plt.show()"
   ]
  },
  {
   "cell_type": "markdown",
   "metadata": {},
   "source": [
    "<hr></hr>"
   ]
  },
  {
   "cell_type": "markdown",
   "metadata": {},
   "source": [
    "### Part 8 - Saving your graphs"
   ]
  },
  {
   "cell_type": "markdown",
   "metadata": {},
   "source": [
    "You can save the graphs you produce as images in a quality of your choosing. "
   ]
  },
  {
   "cell_type": "markdown",
   "metadata": {},
   "source": [
    "For example:\n",
    "\n",
    "```plt.savefig('img.png', dpi=50)```\n",
    "\n",
    "Would save at a fairly low quality, whereas\n",
    "\n",
    "```plt.savefig('img.png', dpi=1000)```\n",
    "\n",
    "would have superb quality, but with a much higher filesize.\n",
    "\n",
    "Or you can save as an `svg` to get lossless quality.\n",
    "\n",
    "```plt.savefig('img3.svg', format='svg')```\n",
    "\n",
    "Run the cell below to generate a graph and save it in different file types."
   ]
  },
  {
   "cell_type": "code",
   "execution_count": null,
   "metadata": {},
   "outputs": [],
   "source": [
    "iBigNumberList =[]\n",
    "iXValues = []\n",
    "for numb in range(100):\n",
    "    iBigNumberList.append((numb-50)**3)\n",
    "    iXValues.append(numb-50)\n",
    "    \n",
    "plt.scatter(x=iXValues, y=iBigNumberList)\n",
    "plt.xlabel(\"X\")\n",
    "plt.ylabel(\"Y\")\n",
    "plt.title(\"A Graph to show the values of X^3\", color=\"red\")\n",
    "plt.grid(True)\n",
    "plt.savefig('img.png', dpi=1000)\n",
    "plt.savefig('img2.png', dpi=20)\n",
    "plt.savefig('img3.png', dpi=50)\n",
    "plt.savefig('img4.svg', format='svg')"
   ]
  },
  {
   "cell_type": "markdown",
   "metadata": {},
   "source": [
    "Here are the examples that were generated from above displayed at the same size of `600x400`."
   ]
  },
  {
   "cell_type": "markdown",
   "metadata": {},
   "source": [
    "###### 20 DPI / 3KB\n",
    "<img src=\"img2.png\" width=\"600\" height=\"400\"/>\n",
    "\n",
    "###### 50 DPI / 18KB\n",
    "<img src=\"img3.png\" width=\"600\" height=\"400\"/>\n",
    "\n",
    "###### 1000 DPI / 337KB\n",
    "<img src=\"img.png\" width=\"600\" height=\"400\"/>\n",
    "\n",
    "###### Lossless SVG / 33KB\n",
    "<img src=\"img4.svg\" width=\"600\" height=\"400\"/>"
   ]
  },
  {
   "cell_type": "markdown",
   "metadata": {},
   "source": [
    "### Part 9 - Loading and Visualising Data Sets"
   ]
  },
  {
   "cell_type": "markdown",
   "metadata": {},
   "source": [
    "To be able to load a data set and visualise it, we will need to use the `pandas` library that we imported in Part 2.\n",
    "We are going to load the data set that is located in your GitHub Repository.\n",
    "The data set we are using is a Spotify data sets that shows the amount of times 5 different songs were played at different dates.\n",
    "\n",
    "To load it in, we are going to need to use the `pd.read_csv()` function and store what it returns inside of a data variable.\n",
    "\n",
    "If you run the cell below, it will load the data set into the `spotify_data` variable!"
   ]
  },
  {
   "cell_type": "code",
   "execution_count": null,
   "metadata": {},
   "outputs": [],
   "source": [
    "Spotify_Data_Filepath = \"spotify.csv\"\n",
    "\n",
    "Spotify_Data = pd.read_csv(Spotify_Data_Filepath, index_col=\"Date\", parse_dates=True)"
   ]
  },
  {
   "cell_type": "markdown",
   "metadata": {},
   "source": [
    "We can then use the `tail()` or the `head()` method to take a quick preview of the last or first few entries in the data set! The `tail()` part has been done for you, do the `head()` one for yourself!"
   ]
  },
  {
   "cell_type": "code",
   "execution_count": null,
   "metadata": {},
   "outputs": [],
   "source": [
    "#Run this cell!\n",
    "Spotify_Data.tail()"
   ]
  },
  {
   "cell_type": "code",
   "execution_count": null,
   "metadata": {},
   "outputs": [],
   "source": [
    "#Do the same in this cell but with head()!\n"
   ]
  },
  {
   "cell_type": "markdown",
   "metadata": {},
   "source": [
    "Now we can actually start visualising this graph! A quick way to do it is with the code cell below, which will try its best to parse the data and draw a lineplot of it!"
   ]
  },
  {
   "cell_type": "code",
   "execution_count": null,
   "metadata": {},
   "outputs": [],
   "source": [
    "sns.lineplot(data=Spotify_Data)"
   ]
  },
  {
   "cell_type": "markdown",
   "metadata": {},
   "source": [
    "We can also just visualise one column of the data by specifying which column we want to visualise."
   ]
  },
  {
   "cell_type": "code",
   "execution_count": null,
   "metadata": {},
   "outputs": [],
   "source": [
    "sns.lineplot(data=Spotify_Data['Shape of You'])"
   ]
  },
  {
   "cell_type": "markdown",
   "metadata": {},
   "source": [
    "In the code cell below, create a lineplot for the Something Just Like This song."
   ]
  },
  {
   "cell_type": "code",
   "execution_count": null,
   "metadata": {},
   "outputs": [],
   "source": [
    "#Your code goes here!\n"
   ]
  },
  {
   "cell_type": "markdown",
   "metadata": {},
   "source": [
    "### Part 10 - Bar Charts "
   ]
  },
  {
   "cell_type": "markdown",
   "metadata": {},
   "source": [
    "We can also draw Bar Charts for the data, it is very similar to lineplots but we have to specify what we want the axis to be."
   ]
  },
  {
   "cell_type": "code",
   "execution_count": null,
   "metadata": {},
   "outputs": [],
   "source": [
    "sns.barplot(x=Spotify_Data.index, y=Spotify_Data['Despacito'])"
   ]
  }
 ],
 "metadata": {
  "kernelspec": {
   "display_name": "Python 3",
   "language": "python",
   "name": "python3"
  },
  "language_info": {
   "codemirror_mode": {
    "name": "ipython",
    "version": 3
   },
   "file_extension": ".py",
   "mimetype": "text/x-python",
   "name": "python",
   "nbconvert_exporter": "python",
   "pygments_lexer": "ipython3",
   "version": "3.7.1"
  }
 },
 "nbformat": 4,
 "nbformat_minor": 2
}
